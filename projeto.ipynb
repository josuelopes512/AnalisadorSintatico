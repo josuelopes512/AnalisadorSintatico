{
 "metadata": {
  "language_info": {
   "codemirror_mode": {
    "name": "ipython",
    "version": 3
   },
   "file_extension": ".py",
   "mimetype": "text/x-python",
   "name": "python",
   "nbconvert_exporter": "python",
   "pygments_lexer": "ipython3",
   "version": "3.8.3"
  },
  "orig_nbformat": 2,
  "kernelspec": {
   "name": "python383jvsc74a57bd096068ab639a04010ce0ebf4d92aa5fa1d95945955db043eb093ed651d9ac7c11",
   "display_name": "Python 3.8.3 64-bit ('base': conda)"
  }
 },
 "nbformat": 4,
 "nbformat_minor": 2,
 "cells": [
  {
   "cell_type": "code",
   "execution_count": 1,
   "metadata": {},
   "outputs": [],
   "source": [
    "import re\n",
    "\n",
    "class Grammar:\n",
    "    def __init__(self, rules):\n",
    "        rules = tuple(rules)\n",
    "        self.rules = tuple(self._parse(rule) for rule in rules)\n",
    "\n",
    "    def _parse(self, rule):\n",
    "        return tuple(rule.replace(' ', '').split('->'))\n",
    "        \n",
    "    def __getitem__(self, nonterminal):\n",
    "        yield from [rule for rule in self.rules if rule[0] == nonterminal]\n",
    "        \n",
    "    @staticmethod #metodo da classe\n",
    "    def is_nonterminal(symbol):\n",
    "        return symbol.isalpha() and symbol.isupper()\n",
    "\n",
    "    @property\n",
    "    def nonterminals(self):\n",
    "        return set([nt for nt, _ in self.rules])\n",
    "        \n",
    "    @property\n",
    "    def terminals(self):       \n",
    "        a = [\n",
    "            expression\n",
    "            for _, expression in self.rules\n",
    "            if not self.is_nonterminal(expression)\n",
    "        ]\n",
    "        \n",
    "        nt = sorted([nt for nt, _ in self.rules], key=len, reverse=True)\n",
    "\n",
    "        for i in nt:\n",
    "            for j in range(0, len(a)):\n",
    "                if re.search(i, a[j]):\n",
    "                    a[j] = a[j].replace(i, '')\n",
    "                a[j] = \" \".join(a[j].split())\n",
    "        \n",
    "        tmp = []  \n",
    "        for i in a:\n",
    "            if i != '' and i not in tmp:\n",
    "                tmp.append(i)\n",
    "        a = tmp\n",
    "\n",
    "        tmp = []\n",
    "        for i in a:\n",
    "            if len(i) > 1 and not i.isalpha():\n",
    "                tmp2 = []\n",
    "                tmp2.append(list(i))\n",
    "                tmp2 = [i for j in tmp2 for i in j]\n",
    "                for j in tmp2:\n",
    "                    tmp.append(j)\n",
    "            else:\n",
    "                tmp.append(i)\n",
    "        a = tmp\n",
    "        tmp = []  \n",
    "        return set(a)"
   ]
  },
  {
   "cell_type": "code",
   "execution_count": 2,
   "metadata": {},
   "outputs": [],
   "source": [
    "def transform2(string,lista):\n",
    "    listanova=[]\n",
    "    texto=\"\"\n",
    "    tam=len(string)\n",
    "    x = 0\n",
    "    while x < tam:\n",
    "        texto +=string[x]\n",
    "        if(x < tam-1 and texto+string[x+1] in lista):\n",
    "            listanova.append(texto+string[x+1])\n",
    "            texto=\"\"\n",
    "            x +=1\n",
    "        elif texto in lista: \n",
    "            listanova.append(texto)\n",
    "            texto=\"\"\n",
    "        x+=1\n",
    "    return listanova"
   ]
  },
  {
   "cell_type": "code",
   "execution_count": 3,
   "metadata": {},
   "outputs": [],
   "source": [
    "def union(first, begins):\n",
    "    n = len(first)\n",
    "    first |= begins\n",
    "    return len(first) != n"
   ]
  },
  {
   "cell_type": "code",
   "execution_count": 4,
   "metadata": {},
   "outputs": [],
   "source": [
    "def First(grammar):\n",
    "    first = {i: set() for i in grammar.nonterminals}\n",
    "    first.update((i, {i}) for i in grammar.terminals)\n",
    "    lista = sorted((list(grammar.terminals)+list(grammar.nonterminals)), key=len, reverse=True)\n",
    "    rule = tuple([(i, transform2(j, lista)) for i, j in grammar.rules])\n",
    "    epsilon = set()\n",
    "\n",
    "    while True:\n",
    "        updated = False\n",
    "        for nt, expression in rule:\n",
    "            for symbol in expression:\n",
    "                updated |= union(first[nt], first[symbol])\n",
    "                if symbol not in epsilon:\n",
    "                    break\n",
    "                else:\n",
    "                    updated |= union(epsilon, {nt})\n",
    "        \n",
    "        if not updated:\n",
    "            epsilon = {'ε'}\n",
    "            for i in first:\n",
    "                if first[i] == set():\n",
    "                    first[i] = {'ε'} \n",
    "            return first, epsilon"
   ]
  },
  {
   "cell_type": "code",
   "execution_count": 5,
   "metadata": {},
   "outputs": [],
   "source": [
    "def tratarArq(lista): # trata lista e converte\n",
    "    lista = \" \".join(lista.split())\n",
    "    lista = re.split(r' ', lista)\n",
    "    return lista"
   ]
  },
  {
   "cell_type": "code",
   "execution_count": 6,
   "metadata": {},
   "outputs": [],
   "source": [
    "def lerArquivo():\n",
    "    arquivo = []\n",
    "    b = []\n",
    "    inicio = \"\"\n",
    "    fim = \"\"\n",
    "    \n",
    "    with open(\"gramatica.txt\", \"r\") as gramatica:\n",
    "        for line in gramatica:\n",
    "            arquivo.append(line.replace('Îµ', 'ε').strip().split('\\n'))\n",
    "    arquivo = [i for j in arquivo for i in j]\n",
    "\n",
    "    for i in range(0, len(arquivo)):\n",
    "        temp = []\n",
    "        temp = tratarArq(arquivo[i])\n",
    "        arquivo[i] = temp\n",
    "    for i in range(0, len(arquivo)):\n",
    "        tam = len(arquivo[i])\n",
    "        for j in range(0, tam):    \n",
    "            if \"|\" in arquivo[i][j]:\n",
    "                inicio = arquivo[i][0]+\" \"+arquivo[i][1]\n",
    "                fim = arquivo[i][-1]\n",
    "                suma = inicio+\" \"+fim\n",
    "                arquivo.append(tratarArq(suma))\n",
    "    for i in arquivo:\n",
    "        b.append(\" \".join(i[:3]))\n",
    "    return b"
   ]
  },
  {
   "cell_type": "code",
   "execution_count": 7,
   "metadata": {},
   "outputs": [],
   "source": [
    "def main():\n",
    "    gr = lerArquivo()\n",
    "    a = Grammar(gr)\n",
    "    first, epsilon = First(a)\n",
    "    for i in first:\n",
    "        print(\"Primeiro({})\".format(i),\"=\", first[i])"
   ]
  },
  {
   "cell_type": "code",
   "execution_count": 8,
   "metadata": {},
   "outputs": [
    {
     "output_type": "stream",
     "name": "stdout",
     "text": [
      "Primeiro(F) = {'(', 'id'}\nPrimeiro(T') = {'*', 'ε'}\nPrimeiro(E') = {'+', 'ε'}\nPrimeiro(E) = {'(', 'id'}\nPrimeiro(T) = {'(', 'id'}\nPrimeiro(() = {'('}\nPrimeiro(+) = {'+'}\nPrimeiro()) = {')'}\nPrimeiro(*) = {'*'}\nPrimeiro(id) = {'id'}\nPrimeiro(ε) = {'ε'}\n"
     ]
    }
   ],
   "source": [
    "main()"
   ]
  },
  {
   "cell_type": "code",
   "execution_count": 9,
   "metadata": {},
   "outputs": [],
   "source": [
    "# Logica \n",
    "# (('E', \"TE'\"), (\"E'\", \"+TE'\"), ('T', \"FT'\"), (\"T'\", \"*FT'\"), ('F', '(E)'), (\"E'\", 'ε'), (\"T'\", 'ε'), ('F', 'id'))\n",
    "\n",
    "# [['E', \"TE'\"], [\"E'\", \"+TE'\"], ['T', \"FT'\"], [\"T'\", \"*FT'\"], ['F', '(E)'], [\"E'\", 'ε'], [\"T'\", 'ε'], ['F', 'id']]\n",
    "\n",
    "# [['E', [\"T\",\"E'\"]], [\"E'\", [\"+\",\"T\",\"E'\"]], ['T', [\"F\",\"T'\"]], [\"T'\", [\"*\",\"F\",\"T'\"]], ['F', [\"(\",\"E\",\")\"]], [\"E'\", ['ε']], [\"T'\", ['ε']], ['F', ['id']]]\n",
    "\n",
    "# (('E', [\"T\",\"E'\"]), (\"E'\", [\"+\",\"T\",\"E'\"]), ('T', [\"F\",\"T'\"]), (\"T'\", [\"*\",\"F\",\"T'\"]), ('F', [\"(\",\"E\",\")\"]), (\"E'\", ['ε']), (\"T'\", ['ε']), ('F', ['id']) )"
   ]
  }
 ]
}